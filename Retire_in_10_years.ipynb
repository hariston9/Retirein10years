{
  "nbformat": 4,
  "nbformat_minor": 0,
  "metadata": {
    "colab": {
      "name": "Retire in 10 years.ipynb",
      "provenance": []
    },
    "kernelspec": {
      "name": "python3",
      "display_name": "Python 3"
    },
    "language_info": {
      "name": "python"
    }
  },
  "cells": [
    {
      "cell_type": "code",
      "metadata": {
        "id": "EUIF0BlEoa_P"
      },
      "source": [
        "import numpy as np\n",
        "import pandas as pd\n",
        "import matplotlib.pyplot as plt"
      ],
      "execution_count": null,
      "outputs": []
    },
    {
      "cell_type": "code",
      "metadata": {
        "id": "P8WDgCP0pqgc"
      },
      "source": [
        "#Create Lists:\n",
        "\n",
        "Year= []\n",
        "Yearly_Income=[]\n",
        "Yearly_Expenses=[]\n",
        "Yearly_Investments=[]\n",
        "Annual_Returns=[]\n"
      ],
      "execution_count": null,
      "outputs": []
    },
    {
      "cell_type": "code",
      "metadata": {
        "id": "l-OWkm2EryTh"
      },
      "source": [
        "#Your yearly constant income \n",
        "income=100000\n",
        "#Yearly constant expense\n",
        "expense= income/2\n",
        "#Average interest of 8% return per year\n",
        "interest_rate=0.08\n",
        "#You invest half of your return\n",
        "investment=income/2\n",
        "#calculating the annual annual return\n",
        "annual_return=investment*interest_rate\n",
        "#Getting the current year\n",
        "year=2021\n"
      ],
      "execution_count": null,
      "outputs": []
    },
    {
      "cell_type": "code",
      "metadata": {
        "id": "i77us3oStF5T"
      },
      "source": [
        "#Append the first values to the lists\n",
        "Year.append(year)\n",
        "Yearly_Income.append(income)\n",
        "Yearly_Expenses.append(expense)\n",
        "Yearly_Investments.append(investment)\n",
        "Annual_Returns.append(annual_return)"
      ],
      "execution_count": null,
      "outputs": []
    },
    {
      "cell_type": "code",
      "metadata": {
        "id": "8QRexd7K-sgc"
      },
      "source": [
        "#Loop for 'n' years\n",
        "invested_years=20\n",
        "for i in range(0, invested_years-1):\n",
        "  #Updates the investment to be the previous investment plus the previous annual return plus half of your investment\n",
        "  investment=investment +annual_return+ income/2\n",
        "  #Update the annual return to be the current investment times the interest rate\n",
        "  annual_return=investment*interest_rate\n",
        "  #Append the new data to the  lists\n",
        "  Year.append(year+i+1)\n",
        "  Yearly_Income.append(income)\n",
        "  Yearly_Expenses.append(expense)\n",
        "  Yearly_Investments.append(investment)\n",
        "  Annual_Returns.append(annual_return)"
      ],
      "execution_count": null,
      "outputs": []
    },
    {
      "cell_type": "code",
      "metadata": {
        "id": "XLv_6r59AJEt"
      },
      "source": [
        "#Create a DataFrame\n",
        "df=pd.DataFrame()\n",
        "df['Year']=Year\n",
        "df['Yearly_Income']=Yearly_Income\n",
        "\n",
        "df['Annual_Returns']= Annual_Returns\n",
        "df['Yearly_Expenses']= Yearly_Expenses\n",
        "df['Yearly_Investments']=Yearly_Investments\n",
        "\n"
      ],
      "execution_count": null,
      "outputs": []
    },
    {
      "cell_type": "code",
      "metadata": {
        "colab": {
          "base_uri": "https://localhost:8080/",
          "height": 669
        },
        "id": "fTV16r9AEHNn",
        "outputId": "97b2df6d-521f-4a59-d472-802acd1ed0e2"
      },
      "source": [
        "df"
      ],
      "execution_count": null,
      "outputs": [
        {
          "output_type": "execute_result",
          "data": {
            "text/html": [
              "<div>\n",
              "<style scoped>\n",
              "    .dataframe tbody tr th:only-of-type {\n",
              "        vertical-align: middle;\n",
              "    }\n",
              "\n",
              "    .dataframe tbody tr th {\n",
              "        vertical-align: top;\n",
              "    }\n",
              "\n",
              "    .dataframe thead th {\n",
              "        text-align: right;\n",
              "    }\n",
              "</style>\n",
              "<table border=\"1\" class=\"dataframe\">\n",
              "  <thead>\n",
              "    <tr style=\"text-align: right;\">\n",
              "      <th></th>\n",
              "      <th>Year</th>\n",
              "      <th>Yearly_Income</th>\n",
              "      <th>Annual_Returns</th>\n",
              "      <th>Yearly_Expenses</th>\n",
              "      <th>Yearly_Investments</th>\n",
              "    </tr>\n",
              "  </thead>\n",
              "  <tbody>\n",
              "    <tr>\n",
              "      <th>0</th>\n",
              "      <td>2021</td>\n",
              "      <td>100000</td>\n",
              "      <td>4000.000000</td>\n",
              "      <td>50000.0</td>\n",
              "      <td>5.000000e+04</td>\n",
              "    </tr>\n",
              "    <tr>\n",
              "      <th>1</th>\n",
              "      <td>2022</td>\n",
              "      <td>100000</td>\n",
              "      <td>8320.000000</td>\n",
              "      <td>50000.0</td>\n",
              "      <td>1.040000e+05</td>\n",
              "    </tr>\n",
              "    <tr>\n",
              "      <th>2</th>\n",
              "      <td>2023</td>\n",
              "      <td>100000</td>\n",
              "      <td>12985.600000</td>\n",
              "      <td>50000.0</td>\n",
              "      <td>1.623200e+05</td>\n",
              "    </tr>\n",
              "    <tr>\n",
              "      <th>3</th>\n",
              "      <td>2024</td>\n",
              "      <td>100000</td>\n",
              "      <td>18024.448000</td>\n",
              "      <td>50000.0</td>\n",
              "      <td>2.253056e+05</td>\n",
              "    </tr>\n",
              "    <tr>\n",
              "      <th>4</th>\n",
              "      <td>2025</td>\n",
              "      <td>100000</td>\n",
              "      <td>23466.403840</td>\n",
              "      <td>50000.0</td>\n",
              "      <td>2.933300e+05</td>\n",
              "    </tr>\n",
              "    <tr>\n",
              "      <th>5</th>\n",
              "      <td>2026</td>\n",
              "      <td>100000</td>\n",
              "      <td>29343.716147</td>\n",
              "      <td>50000.0</td>\n",
              "      <td>3.667965e+05</td>\n",
              "    </tr>\n",
              "    <tr>\n",
              "      <th>6</th>\n",
              "      <td>2027</td>\n",
              "      <td>100000</td>\n",
              "      <td>35691.213439</td>\n",
              "      <td>50000.0</td>\n",
              "      <td>4.461402e+05</td>\n",
              "    </tr>\n",
              "    <tr>\n",
              "      <th>7</th>\n",
              "      <td>2028</td>\n",
              "      <td>100000</td>\n",
              "      <td>42546.510514</td>\n",
              "      <td>50000.0</td>\n",
              "      <td>5.318314e+05</td>\n",
              "    </tr>\n",
              "    <tr>\n",
              "      <th>8</th>\n",
              "      <td>2029</td>\n",
              "      <td>100000</td>\n",
              "      <td>49950.231355</td>\n",
              "      <td>50000.0</td>\n",
              "      <td>6.243779e+05</td>\n",
              "    </tr>\n",
              "    <tr>\n",
              "      <th>9</th>\n",
              "      <td>2030</td>\n",
              "      <td>100000</td>\n",
              "      <td>57946.249864</td>\n",
              "      <td>50000.0</td>\n",
              "      <td>7.243281e+05</td>\n",
              "    </tr>\n",
              "    <tr>\n",
              "      <th>10</th>\n",
              "      <td>2031</td>\n",
              "      <td>100000</td>\n",
              "      <td>66581.949853</td>\n",
              "      <td>50000.0</td>\n",
              "      <td>8.322744e+05</td>\n",
              "    </tr>\n",
              "    <tr>\n",
              "      <th>11</th>\n",
              "      <td>2032</td>\n",
              "      <td>100000</td>\n",
              "      <td>75908.505841</td>\n",
              "      <td>50000.0</td>\n",
              "      <td>9.488563e+05</td>\n",
              "    </tr>\n",
              "    <tr>\n",
              "      <th>12</th>\n",
              "      <td>2033</td>\n",
              "      <td>100000</td>\n",
              "      <td>85981.186308</td>\n",
              "      <td>50000.0</td>\n",
              "      <td>1.074765e+06</td>\n",
              "    </tr>\n",
              "    <tr>\n",
              "      <th>13</th>\n",
              "      <td>2034</td>\n",
              "      <td>100000</td>\n",
              "      <td>96859.681213</td>\n",
              "      <td>50000.0</td>\n",
              "      <td>1.210746e+06</td>\n",
              "    </tr>\n",
              "    <tr>\n",
              "      <th>14</th>\n",
              "      <td>2035</td>\n",
              "      <td>100000</td>\n",
              "      <td>108608.455710</td>\n",
              "      <td>50000.0</td>\n",
              "      <td>1.357606e+06</td>\n",
              "    </tr>\n",
              "    <tr>\n",
              "      <th>15</th>\n",
              "      <td>2036</td>\n",
              "      <td>100000</td>\n",
              "      <td>121297.132167</td>\n",
              "      <td>50000.0</td>\n",
              "      <td>1.516214e+06</td>\n",
              "    </tr>\n",
              "    <tr>\n",
              "      <th>16</th>\n",
              "      <td>2037</td>\n",
              "      <td>100000</td>\n",
              "      <td>135000.902740</td>\n",
              "      <td>50000.0</td>\n",
              "      <td>1.687511e+06</td>\n",
              "    </tr>\n",
              "    <tr>\n",
              "      <th>17</th>\n",
              "      <td>2038</td>\n",
              "      <td>100000</td>\n",
              "      <td>149800.974959</td>\n",
              "      <td>50000.0</td>\n",
              "      <td>1.872512e+06</td>\n",
              "    </tr>\n",
              "    <tr>\n",
              "      <th>18</th>\n",
              "      <td>2039</td>\n",
              "      <td>100000</td>\n",
              "      <td>165785.052956</td>\n",
              "      <td>50000.0</td>\n",
              "      <td>2.072313e+06</td>\n",
              "    </tr>\n",
              "    <tr>\n",
              "      <th>19</th>\n",
              "      <td>2040</td>\n",
              "      <td>100000</td>\n",
              "      <td>183047.857192</td>\n",
              "      <td>50000.0</td>\n",
              "      <td>2.288098e+06</td>\n",
              "    </tr>\n",
              "  </tbody>\n",
              "</table>\n",
              "</div>"
            ],
            "text/plain": [
              "    Year  Yearly_Income  Annual_Returns  Yearly_Expenses  Yearly_Investments\n",
              "0   2021         100000     4000.000000          50000.0        5.000000e+04\n",
              "1   2022         100000     8320.000000          50000.0        1.040000e+05\n",
              "2   2023         100000    12985.600000          50000.0        1.623200e+05\n",
              "3   2024         100000    18024.448000          50000.0        2.253056e+05\n",
              "4   2025         100000    23466.403840          50000.0        2.933300e+05\n",
              "5   2026         100000    29343.716147          50000.0        3.667965e+05\n",
              "6   2027         100000    35691.213439          50000.0        4.461402e+05\n",
              "7   2028         100000    42546.510514          50000.0        5.318314e+05\n",
              "8   2029         100000    49950.231355          50000.0        6.243779e+05\n",
              "9   2030         100000    57946.249864          50000.0        7.243281e+05\n",
              "10  2031         100000    66581.949853          50000.0        8.322744e+05\n",
              "11  2032         100000    75908.505841          50000.0        9.488563e+05\n",
              "12  2033         100000    85981.186308          50000.0        1.074765e+06\n",
              "13  2034         100000    96859.681213          50000.0        1.210746e+06\n",
              "14  2035         100000   108608.455710          50000.0        1.357606e+06\n",
              "15  2036         100000   121297.132167          50000.0        1.516214e+06\n",
              "16  2037         100000   135000.902740          50000.0        1.687511e+06\n",
              "17  2038         100000   149800.974959          50000.0        1.872512e+06\n",
              "18  2039         100000   165785.052956          50000.0        2.072313e+06\n",
              "19  2040         100000   183047.857192          50000.0        2.288098e+06"
            ]
          },
          "metadata": {},
          "execution_count": 17
        }
      ]
    },
    {
      "cell_type": "code",
      "metadata": {
        "colab": {
          "base_uri": "https://localhost:8080/",
          "height": 338
        },
        "id": "DLDmCmUkIs_W",
        "outputId": "f050e729-a592-458f-f3d1-32708999f88e"
      },
      "source": [
        "#Visually show the date\n",
        "plt.figure(figsize=(12.2, 4.5))\n",
        "plt.plot(df['Year'], df['Yearly_Expenses'], label='Yearly_Expenses')\n",
        "plt.plot(df['Year'], df['Annual_Returns'], label='Annual_Returns')\n",
        "plt.xticks(rotation=45)\n",
        "plt.title('Retire in 10 years')\n",
        "plt.xlabel('Years')\n",
        "plt.ylabel('returns')\n",
        "plt.xticks(df['Year'])\n",
        "plt.legend()\n",
        "plt.show()"
      ],
      "execution_count": null,
      "outputs": [
        {
          "output_type": "display_data",
          "data": {
            "image/png": "[encoded data removed]",
            "text/plain": [
              "<Figure size 878.4x324 with 1 Axes>"
            ]
          },
          "metadata": {
            "needs_background": "light"
          }
        }
      ]
    },
    {
      "cell_type": "code",
      "metadata": {
        "id": "o1rijRmuKr5c",
        "colab": {
          "base_uri": "https://localhost:8080/",
          "height": 80
        },
        "outputId": "fb6de44e-8e4a-4220-e2c5-90f749892fd4"
      },
      "source": [
        "#Show the year/row where you can live off of returns\n",
        "df[df.Yearly_Expenses <= df. Annual_Returns].head(1)"
      ],
      "execution_count": null,
      "outputs": [
        {
          "output_type": "execute_result",
          "data": {
            "text/html": [
              "<div>\n",
              "<style scoped>\n",
              "    .dataframe tbody tr th:only-of-type {\n",
              "        vertical-align: middle;\n",
              "    }\n",
              "\n",
              "    .dataframe tbody tr th {\n",
              "        vertical-align: top;\n",
              "    }\n",
              "\n",
              "    .dataframe thead th {\n",
              "        text-align: right;\n",
              "    }\n",
              "</style>\n",
              "<table border=\"1\" class=\"dataframe\">\n",
              "  <thead>\n",
              "    <tr style=\"text-align: right;\">\n",
              "      <th></th>\n",
              "      <th>Year</th>\n",
              "      <th>Yearly_Income</th>\n",
              "      <th>Annual_Returns</th>\n",
              "      <th>Yearly_Expenses</th>\n",
              "      <th>Yearly_Investments</th>\n",
              "    </tr>\n",
              "  </thead>\n",
              "  <tbody>\n",
              "    <tr>\n",
              "      <th>9</th>\n",
              "      <td>2030</td>\n",
              "      <td>100000</td>\n",
              "      <td>57946.249864</td>\n",
              "      <td>50000.0</td>\n",
              "      <td>724328.123295</td>\n",
              "    </tr>\n",
              "  </tbody>\n",
              "</table>\n",
              "</div>"
            ],
            "text/plain": [
              "   Year  Yearly_Income  Annual_Returns  Yearly_Expenses  Yearly_Investments\n",
              "9  2030         100000    57946.249864          50000.0       724328.123295"
            ]
          },
          "metadata": {},
          "execution_count": 19
        }
      ]
    }
  ]
}